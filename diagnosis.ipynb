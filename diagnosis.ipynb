{
 "cells": [
  {
   "cell_type": "markdown",
   "metadata": {},
   "source": [
    "# Investigating Spey fitting of a histogram from Contur"
   ]
  },
  {
   "cell_type": "code",
   "execution_count": 1,
   "metadata": {},
   "outputs": [],
   "source": [
    "import matplotlib.pyplot as plt\n",
    "import numpy as np\n",
    "import spey\n",
    "spey.set_log_level(3) # debug\n",
    "\n",
    "# load some data from a contur histogram\n",
    "bg = np.array([3.612882e-03, 1.598201e-03, 3.186370e-05])\n",
    "meas = np.array([3.2194e-03, 1.4437e-03, 3.0542e-05])\n",
    "signal = np.array([1.26975467e-06, 0.00000000e+00, 0.00000000e+00])\n",
    "measurement_cov = np.array([[1.25297487e-07, 3.41845046e-08, 1.09669171e-09],[3.41845046e-08, 1.19312634e-08, 3.20895254e-10],[1.09669171e-09, 3.20895254e-10, 1.88543549e-11]])\n",
    "background_cov = np.array([[4.37507776e-08, 0.00000000e+00, 0.00000000e+00], [0.00000000e+00, 4.15880810e-09, 0.00000000e+00],[0.00000000e+00, 0.00000000e+00, 5.55546207e-13]])\n",
    "signal_cov = np.array([[1.72952086e-12, 0.00000000e+00, 0.00000000e+00],[0.00000000e+00, 8.52595599e-15, 0.00000000e+00],[0.00000000e+00, 0.00000000e+00, 6.63785501e-17]])"
   ]
  },
  {
   "cell_type": "markdown",
   "metadata": {},
   "source": [
    "## Recreate the calculation currently implemented in Contur"
   ]
  },
  {
   "cell_type": "code",
   "execution_count": 2,
   "metadata": {},
   "outputs": [
    {
     "name": "stdout",
     "output_type": "stream",
     "text": [
      "Current Contur CLs: 0.002476747131786694\n"
     ]
    }
   ],
   "source": [
    "from scipy.stats import norm\n",
    "\n",
    "inv_cov_s_b = np.linalg.inv(signal_cov+measurement_cov+background_cov)\n",
    "inv_cov_b_only = np.linalg.inv(measurement_cov+background_cov)\n",
    "\n",
    "# contstruct a chi_square test statistic in the asymptotic limit\n",
    "delta_mu_test = signal + bg - meas\n",
    "delta_mu_null = bg - meas\n",
    "ts_s_b = np.dot(delta_mu_test,np.dot(inv_cov_s_b,delta_mu_test))\n",
    "ts_b = np.dot(delta_mu_null,np.dot(inv_cov_s_b,delta_mu_null))\n",
    "\n",
    "# the test statistics are chi-sq distributed, so calculate the log(p-value)\n",
    "log_pval_sb, log_pval_b = norm.logsf(np.sqrt((ts_s_b,ts_b)))\n",
    "\n",
    "# convert to CLs value\n",
    "CLs = 1 - np.exp(log_pval_sb - log_pval_b)\n",
    "print(f'Current Contur CLs: {CLs}')"
   ]
  },
  {
   "cell_type": "markdown",
   "metadata": {},
   "source": [
    "## Spey CLs Calculation"
   ]
  },
  {
   "cell_type": "code",
   "execution_count": 3,
   "metadata": {},
   "outputs": [
    {
     "name": "stdout",
     "output_type": "stream",
     "text": [
      "\u001b[36mSpey - DEBUG (likelihoods.__init__() in likelihoods.py::L130): Min POI set to : -2845.3386196248443\u001b[0m\n"
     ]
    }
   ],
   "source": [
    "# build the contur plugin\n",
    "contur_model = spey.get_backend(\"contur.full_histogram_likelihood\")(\n",
    "    signal_yields=signal,\n",
    "    background_yields=bg,\n",
    "    data=meas,\n",
    "    signal_covariance=signal_cov,\n",
    "    background_covariance=background_cov,\n",
    "    data_covariance=measurement_cov\n",
    ")"
   ]
  },
  {
   "cell_type": "code",
   "execution_count": 4,
   "metadata": {},
   "outputs": [
    {
     "name": "stdout",
     "output_type": "stream",
     "text": [
      "\u001b[36mSpey - DEBUG (__init__.__init__() in __init__.py::L108): Min POI set to : -2845.3386196248443\u001b[0m\n",
      "\u001b[36mSpey - DEBUG (distributions.__init__() in distributions.py::L264): Adding constraint terms:\u001b[0m\n",
      "\u001b[36mSpey - DEBUG (distributions.__init__() in distributions.py::L270): {'distribution_type': 'multivariatenormal', 'args': [array([0., 0., 0.]), array([[1., 0., 0.],\n",
      "       [0., 1., 0.],\n",
      "       [0., 0., 1.]])], 'kwargs': {'domain': slice(1, None, None)}}\u001b[0m\n",
      "\u001b[36mSpey - DEBUG (__init__.__init__() in __init__.py::L108): Min POI set to : -2845.3386196248443\u001b[0m\n",
      "\u001b[36mSpey - DEBUG (distributions.__init__() in distributions.py::L264): Adding constraint terms:\u001b[0m\n",
      "\u001b[36mSpey - DEBUG (distributions.__init__() in distributions.py::L270): {'distribution_type': 'normal', 'args': [array([0., 0., 0.]), array([1., 1., 1.])], 'kwargs': {'domain': slice(1, 4, None)}}\u001b[0m\n"
     ]
    }
   ],
   "source": [
    "# build some default spey models for comparison\n",
    "corr_bkd = spey.get_backend('default_pdf.correlated_background')(\n",
    "    signal_yields=signal,\n",
    "    background_yields=bg,\n",
    "    data=meas,\n",
    "    covariance_matrix=background_cov,\n",
    ")\n",
    "\n",
    "uncorr_bkd = spey.get_backend('default_pdf.uncorrelated_background')(signal_yields=signal,\n",
    "                              background_yields=bg,\n",
    "                              data=meas,\n",
    "                              absolute_uncertainties=np.sqrt(np.diag(background_cov))\n",
    ")\n",
    "\n",
    "multinorm = spey.get_backend('default_pdf.multivariate_normal')(signal_yields=signal,\n",
    "                              background_yields=bg,\n",
    "                              data=meas,\n",
    "                              covariance_matrix=signal_cov+background_cov+measurement_cov\n",
    ")"
   ]
  },
  {
   "cell_type": "markdown",
   "metadata": {},
   "source": [
    "### CLs computation for each model\n",
    "\n",
    "All models give a CLs of 1.0 when the asymptotic calculator is used\n",
    "\n",
    "The three models involving Poisson terms give a very low CLs value when the chi-squared calculator is used\n",
    "\n",
    "Could this be because the Poisson terms expect yields larger than one?"
   ]
  },
  {
   "cell_type": "code",
   "execution_count": 5,
   "metadata": {},
   "outputs": [
    {
     "name": "stdout",
     "output_type": "stream",
     "text": [
      "\u001b[31mSpey - ERROR: Asimov test statistic is zero. Note: Asimov test statistic of zero indicates a lack of evidence for a signal or deviation from a null hypothesis.\u001b[0m\n",
      "contur.full_histogram_likelihood , asymptotic calculator, CLs:  0.0\n",
      "contur.full_histogram_likelihood , chi_square calculator, CLs:  4.34573568908192e-07\n",
      "\u001b[31mSpey - ERROR: Asimov test statistic is zero. Note: Asimov test statistic of zero indicates a lack of evidence for a signal or deviation from a null hypothesis.\u001b[0m\n",
      "default_pdf.correlated_background , asymptotic calculator, CLs:  0.0\n",
      "default_pdf.correlated_background , chi_square calculator, CLs:  1.8723454231484027e-07\n",
      "\u001b[31mSpey - ERROR: Asimov test statistic is zero. Note: Asimov test statistic of zero indicates a lack of evidence for a signal or deviation from a null hypothesis.\u001b[0m\n",
      "default_pdf.uncorrelated_background , asymptotic calculator, CLs:  0.0\n",
      "default_pdf.uncorrelated_background , chi_square calculator, CLs:  1.8723454231484027e-07\n",
      "\u001b[31mSpey - ERROR: Asimov test statistic is zero. Note: Asimov test statistic of zero indicates a lack of evidence for a signal or deviation from a null hypothesis.\u001b[0m\n",
      "default_pdf.multivariate_normal , asymptotic calculator, CLs:  0.0\n",
      "default_pdf.multivariate_normal , chi_square calculator, CLs:  0.04752545074571424\n"
     ]
    }
   ],
   "source": [
    "models = [contur_model,corr_bkd,uncorr_bkd,multinorm]\n",
    "spey.set_log_level(2)\n",
    "for model in models:\n",
    "    print(model._backend.name,', asymptotic calculator, CLs: ' ,model.exclusion_confidence_level(calculator='asymptotic')[0])\n",
    "    print(model._backend.name,', chi_square calculator, CLs: ' ,model.exclusion_confidence_level(calculator='chi_square')[0])"
   ]
  },
  {
   "cell_type": "markdown",
   "metadata": {},
   "source": [
    "### Chi-squared calculator\n",
    "\n",
    "**Conclusion:** For the models that have a Poisson term dependence, the optimiser isn't minimising the NLL very well, resulting in a weaker CLs value\n",
    "\n",
    "From `spey.base.hypotest_base.HypothesisTestingBase`:\n",
    "\n",
    "If `poi_test_denominator=None` computes\n",
    "\n",
    "$$\\chi^2 = -2\\log\\left(\\frac{\\mathcal{L}(\\mu,\\theta_\\mu)}{\\mathcal{L}(\\hat\\mu,\\hat\\theta)}\\right)$$\n",
    "\n",
    "else\n",
    "\n",
    "$$\\chi^2 = -2\\log\\left(\\frac{\\mathcal{L}(\\mu,\\theta_\\mu)}{\\mathcal{L}(\\mu_{\\rm denom},\\theta_{\\mu_{\\rm denom}})}\\right)$$\n",
    "\n",
    "So what happens with no minimization of the NLL?"
   ]
  },
  {
   "cell_type": "code",
   "execution_count": 6,
   "metadata": {},
   "outputs": [
    {
     "name": "stdout",
     "output_type": "stream",
     "text": [
      "\u001b[36mSpey - DEBUG (statistical_model.maximize_likelihood() in statistical_model.py::L511): fit parameters: [1.11022302e-16]\u001b[0m\n",
      "without NLL minimization, CLs: [0.04752545074571424]\n",
      "\u001b[36mSpey - DEBUG (statistical_model.maximize_likelihood() in statistical_model.py::L511): fit parameters: [1.11022302e-16]\u001b[0m\n",
      "with NLL minimization, CLs: [0.04752545074571424]\n"
     ]
    },
    {
     "name": "stderr",
     "output_type": "stream",
     "text": [
      "/Users/joeegan/Documents/phd/code/spey_contur_plugin/spey_venv/lib/python3.11/site-packages/spey/optimizer/scipy_tools.py:58: OptimizeWarning: Unknown solver options: poi_test_denominator\n",
      "  opt = scipy.optimize.minimize(\n"
     ]
    }
   ],
   "source": [
    "# look at multivariate normal model first as that seems to give sensible results\n",
    "# the poi that minimises the NLL is very close to 0, so these methods give the same results\n",
    "spey.set_log_level(3)\n",
    "print(f\"without NLL minimization, CLs: {multinorm.exclusion_confidence_level(poi_test=1.0,poi_test_denominator=0.0,calculator='chi_square')}\")\n",
    "print(f\"with NLL minimization, CLs: {multinorm.exclusion_confidence_level(calculator='chi_square')}\")\n"
   ]
  },
  {
   "cell_type": "code",
   "execution_count": 7,
   "metadata": {},
   "outputs": [
    {
     "name": "stdout",
     "output_type": "stream",
     "text": [
      "\u001b[36mSpey - DEBUG (__init__.get_objective_function() in __init__.py::L256): Data: [3.2194e-03 1.4437e-03 3.0542e-05]\u001b[0m\n",
      "\u001b[36mSpey - DEBUG (__init__.get_logpdf_func() in __init__.py::L301): Data: [3.2194e-03 1.4437e-03 3.0542e-05]\u001b[0m\n",
      "\u001b[36mSpey - DEBUG (statistical_model.maximize_likelihood() in statistical_model.py::L511): fit parameters: [ 9.99999799e-01 -3.30392984e-05 -8.49370420e-06 -4.72468515e-08]\u001b[0m\n",
      "\u001b[36mSpey - DEBUG (__init__.get_objective_function() in __init__.py::L256): Data: [3.2194e-03 1.4437e-03 3.0542e-05]\u001b[0m\n",
      "\u001b[36mSpey - DEBUG (__init__.get_logpdf_func() in __init__.py::L301): Data: [3.2194e-03 1.4437e-03 3.0542e-05]\u001b[0m\n",
      "\u001b[36mSpey - DEBUG (core.fit() in core.py::L68): Fixing POI index at: 0 to value 1.0\u001b[0m\n",
      "\u001b[36mSpey - DEBUG (__init__.get_objective_function() in __init__.py::L256): Data: [3.2194e-03 1.4437e-03 3.0542e-05]\u001b[0m\n",
      "\u001b[36mSpey - DEBUG (__init__.get_logpdf_func() in __init__.py::L301): Data: [3.2194e-03 1.4437e-03 3.0542e-05]\u001b[0m\n",
      "\u001b[36mSpey - DEBUG (core.fit() in core.py::L68): Fixing POI index at: 0 to value 0.0\u001b[0m\n",
      "without NLL minimization, CLs: [1.8723454231484027e-07]\n",
      "\u001b[36mSpey - DEBUG (__init__.get_objective_function() in __init__.py::L256): Data: [3.2194e-03 1.4437e-03 3.0542e-05]\u001b[0m\n",
      "\u001b[36mSpey - DEBUG (__init__.get_logpdf_func() in __init__.py::L301): Data: [3.2194e-03 1.4437e-03 3.0542e-05]\u001b[0m\n",
      "\u001b[36mSpey - DEBUG (statistical_model.maximize_likelihood() in statistical_model.py::L511): fit parameters: [ 9.99999799e-01 -3.30392984e-05 -8.49370420e-06 -4.72468515e-08]\u001b[0m\n",
      "\u001b[36mSpey - DEBUG (__init__.get_objective_function() in __init__.py::L256): Data: [3.2194e-03 1.4437e-03 3.0542e-05]\u001b[0m\n",
      "\u001b[36mSpey - DEBUG (__init__.get_logpdf_func() in __init__.py::L301): Data: [3.2194e-03 1.4437e-03 3.0542e-05]\u001b[0m\n",
      "\u001b[36mSpey - DEBUG (core.fit() in core.py::L68): Fixing POI index at: 0 to value 1.0\u001b[0m\n",
      "\u001b[36mSpey - DEBUG (__init__.get_objective_function() in __init__.py::L256): Data: [3.2194e-03 1.4437e-03 3.0542e-05]\u001b[0m\n",
      "\u001b[36mSpey - DEBUG (__init__.get_logpdf_func() in __init__.py::L301): Data: [3.2194e-03 1.4437e-03 3.0542e-05]\u001b[0m\n",
      "\u001b[36mSpey - DEBUG (core.fit() in core.py::L68): Fixing POI index at: 0 to value 0.0\u001b[0m\n",
      "with NLL minimization, CLs: [1.8723454231484027e-07]\n"
     ]
    },
    {
     "name": "stderr",
     "output_type": "stream",
     "text": [
      "/Users/joeegan/Documents/phd/code/spey_contur_plugin/spey_venv/lib/python3.11/site-packages/spey/optimizer/scipy_tools.py:58: OptimizeWarning: Unknown solver options: poi_test_denominator\n",
      "  opt = scipy.optimize.minimize(\n",
      "/Users/joeegan/Documents/phd/code/spey_contur_plugin/spey_venv/lib/python3.11/site-packages/spey/optimizer/scipy_tools.py:58: OptimizeWarning: Unknown solver options: poi_test_denominator\n",
      "  opt = scipy.optimize.minimize(\n",
      "/Users/joeegan/Documents/phd/code/spey_contur_plugin/spey_venv/lib/python3.11/site-packages/spey/optimizer/scipy_tools.py:58: OptimizeWarning: Unknown solver options: poi_test_denominator\n",
      "  opt = scipy.optimize.minimize(\n"
     ]
    }
   ],
   "source": [
    "# now try the uncorrelated background model\n",
    "# this time, the poi that minimises the NLL is close to 1.0\n",
    "spey.set_log_level(3)\n",
    "print(f\"without NLL minimization, CLs: {uncorr_bkd.exclusion_confidence_level(poi_test_denominator=0.0,calculator='chi_square')}\")\n",
    "print(f\"with NLL minimization, CLs: {uncorr_bkd.exclusion_confidence_level(calculator='chi_square')}\")"
   ]
  },
  {
   "cell_type": "code",
   "execution_count": 8,
   "metadata": {},
   "outputs": [
    {
     "name": "stdout",
     "output_type": "stream",
     "text": [
      "\u001b[36mSpey - DEBUG (likelihoods.get_objective_function() in likelihoods.py::L283): Data: [3.2194e-03 1.4437e-03 3.0542e-05]\u001b[0m\n",
      "\u001b[36mSpey - DEBUG (likelihoods.get_logpdf_func() in likelihoods.py::L328): Data: [3.2194e-03 1.4437e-03 3.0542e-05]\u001b[0m\n",
      "\u001b[36mSpey - DEBUG (statistical_model.maximize_likelihood() in statistical_model.py::L511): fit parameters: [ 9.99998931e-01 -1.04710129e-05  7.20397632e-04  8.69815210e-05\n",
      " -1.51042406e-05 -2.13116771e-05  9.48866691e-05 -1.50121501e-05\n",
      " -7.48477581e-06  1.31296034e-06]\u001b[0m\n",
      "\u001b[36mSpey - DEBUG (likelihoods.get_objective_function() in likelihoods.py::L283): Data: [3.2194e-03 1.4437e-03 3.0542e-05]\u001b[0m\n",
      "\u001b[36mSpey - DEBUG (likelihoods.get_logpdf_func() in likelihoods.py::L328): Data: [3.2194e-03 1.4437e-03 3.0542e-05]\u001b[0m\n",
      "\u001b[36mSpey - DEBUG (core.fit() in core.py::L68): Fixing POI index at: 0 to value 1.0\u001b[0m\n",
      "\u001b[36mSpey - DEBUG (likelihoods.get_objective_function() in likelihoods.py::L283): Data: [3.2194e-03 1.4437e-03 3.0542e-05]\u001b[0m\n",
      "\u001b[36mSpey - DEBUG (likelihoods.get_logpdf_func() in likelihoods.py::L328): Data: [3.2194e-03 1.4437e-03 3.0542e-05]\u001b[0m\n",
      "\u001b[36mSpey - DEBUG (core.fit() in core.py::L68): Fixing POI index at: 0 to value 0.0\u001b[0m\n",
      "without NLL minimization, CLs: [4.34573568908192e-07]\n",
      "\u001b[36mSpey - DEBUG (likelihoods.get_objective_function() in likelihoods.py::L283): Data: [3.2194e-03 1.4437e-03 3.0542e-05]\u001b[0m\n",
      "\u001b[36mSpey - DEBUG (likelihoods.get_logpdf_func() in likelihoods.py::L328): Data: [3.2194e-03 1.4437e-03 3.0542e-05]\u001b[0m\n",
      "\u001b[36mSpey - DEBUG (statistical_model.maximize_likelihood() in statistical_model.py::L511): fit parameters: [ 9.99998931e-01 -1.04710129e-05  7.20397632e-04  8.69815210e-05\n",
      " -1.51042406e-05 -2.13116771e-05  9.48866691e-05 -1.50121501e-05\n",
      " -7.48477581e-06  1.31296034e-06]\u001b[0m\n",
      "\u001b[36mSpey - DEBUG (likelihoods.get_objective_function() in likelihoods.py::L283): Data: [3.2194e-03 1.4437e-03 3.0542e-05]\u001b[0m\n",
      "\u001b[36mSpey - DEBUG (likelihoods.get_logpdf_func() in likelihoods.py::L328): Data: [3.2194e-03 1.4437e-03 3.0542e-05]\u001b[0m\n",
      "\u001b[36mSpey - DEBUG (core.fit() in core.py::L68): Fixing POI index at: 0 to value 1.0\u001b[0m\n",
      "\u001b[36mSpey - DEBUG (likelihoods.get_objective_function() in likelihoods.py::L283): Data: [3.2194e-03 1.4437e-03 3.0542e-05]\u001b[0m\n",
      "\u001b[36mSpey - DEBUG (likelihoods.get_logpdf_func() in likelihoods.py::L328): Data: [3.2194e-03 1.4437e-03 3.0542e-05]\u001b[0m\n",
      "\u001b[36mSpey - DEBUG (core.fit() in core.py::L68): Fixing POI index at: 0 to value 0.0\u001b[0m\n"
     ]
    },
    {
     "name": "stderr",
     "output_type": "stream",
     "text": [
      "/Users/joeegan/Documents/phd/code/spey_contur_plugin/spey_venv/lib/python3.11/site-packages/spey/optimizer/scipy_tools.py:58: OptimizeWarning: Unknown solver options: poi_test_denominator\n",
      "  opt = scipy.optimize.minimize(\n",
      "/Users/joeegan/Documents/phd/code/spey_contur_plugin/spey_venv/lib/python3.11/site-packages/spey/optimizer/scipy_tools.py:58: OptimizeWarning: Unknown solver options: poi_test_denominator\n",
      "  opt = scipy.optimize.minimize(\n",
      "/Users/joeegan/Documents/phd/code/spey_contur_plugin/spey_venv/lib/python3.11/site-packages/spey/optimizer/scipy_tools.py:58: OptimizeWarning: Unknown solver options: poi_test_denominator\n",
      "  opt = scipy.optimize.minimize(\n"
     ]
    },
    {
     "name": "stdout",
     "output_type": "stream",
     "text": [
      "with NLL minimization, CLs: [4.34573568908192e-07]\n"
     ]
    }
   ],
   "source": [
    "# now try the contur one\n",
    "# again the limit gets weaker when we try to do the NLL minimisation, so something is going wrong with the minimisation procedure\n",
    "# also the value it finds is very close to the uncorrelated background case, suggesting that these Poisson based likelihoods are struggling to minimise the NLL\n",
    "spey.set_log_level(3)\n",
    "print(f\"without NLL minimization, CLs: {contur_model.exclusion_confidence_level(poi_test_denominator=0.0,calculator='chi_square')}\")\n",
    "print(f\"with NLL minimization, CLs: {contur_model.exclusion_confidence_level(calculator='chi_square')}\")"
   ]
  },
  {
   "cell_type": "markdown",
   "metadata": {},
   "source": [
    "### See how the likelihoods with Poisson terms perform when we set the initial poi guess to zero\n",
    "\n",
    "*Conclusion:* They return a comparable exclusion to the multivariate normal model result\n",
    "\n",
    "Q. the minimisation of NLL is not dependent on which calculator is used (right?)\n",
    "\n",
    "From the log outputs, the poi is fit to a very small value ~1e-23 when `statistical_model.maximize_likelihood()` is called\n",
    "\n",
    "Q. So why in `core.fit()` is the POI fixed to 1.0? "
   ]
  },
  {
   "cell_type": "code",
   "execution_count": 9,
   "metadata": {},
   "outputs": [
    {
     "name": "stdout",
     "output_type": "stream",
     "text": [
      "\u001b[36mSpey - DEBUG (__init__.get_objective_function() in __init__.py::L256): Data: [3.2194e-03 1.4437e-03 3.0542e-05]\u001b[0m\n",
      "\u001b[36mSpey - DEBUG (__init__.get_logpdf_func() in __init__.py::L301): Data: [3.2194e-03 1.4437e-03 3.0542e-05]\u001b[0m\n",
      "\u001b[36mSpey - DEBUG (statistical_model.maximize_likelihood() in statistical_model.py::L511): fit parameters: [ 5.29395592e-23 -3.29807856e-05 -8.49370420e-06 -4.72468513e-08]\u001b[0m\n",
      "\u001b[36mSpey - DEBUG (__init__.get_objective_function() in __init__.py::L256): Data: [3.2194e-03 1.4437e-03 3.0542e-05]\u001b[0m\n",
      "\u001b[36mSpey - DEBUG (__init__.get_logpdf_func() in __init__.py::L301): Data: [3.2194e-03 1.4437e-03 3.0542e-05]\u001b[0m\n",
      "\u001b[36mSpey - DEBUG (core.fit() in core.py::L68): Fixing POI index at: 0 to value 1.0\u001b[0m\n",
      "\u001b[36mSpey - DEBUG (__init__.get_objective_function() in __init__.py::L256): Data: [3.2194e-03 1.4437e-03 3.0542e-05]\u001b[0m\n",
      "\u001b[36mSpey - DEBUG (__init__.get_logpdf_func() in __init__.py::L301): Data: [3.2194e-03 1.4437e-03 3.0542e-05]\u001b[0m\n",
      "\u001b[36mSpey - DEBUG (core.fit() in core.py::L68): Fixing POI index at: 0 to value 0.0\u001b[0m\n"
     ]
    },
    {
     "data": {
      "text/plain": [
       "[0.00041982547747398957]"
      ]
     },
     "execution_count": 9,
     "metadata": {},
     "output_type": "execute_result"
    }
   ],
   "source": [
    "init_pars=[0.,1.,1.,1.]\n",
    "corr_bkd.exclusion_confidence_level(calculator='chi_square',init_pars=init_pars,do_grad=True)\n"
   ]
  },
  {
   "cell_type": "code",
   "execution_count": 10,
   "metadata": {},
   "outputs": [
    {
     "name": "stdout",
     "output_type": "stream",
     "text": [
      "\u001b[36mSpey - DEBUG (likelihoods.get_objective_function() in likelihoods.py::L283): Data: [3.2194e-03 1.4437e-03 3.0542e-05]\u001b[0m\n",
      "\u001b[36mSpey - DEBUG (likelihoods.get_logpdf_func() in likelihoods.py::L328): Data: [3.2194e-03 1.4437e-03 3.0542e-05]\u001b[0m\n",
      "\u001b[36mSpey - DEBUG (statistical_model.maximize_likelihood() in statistical_model.py::L511): fit parameters: [ 7.16545206e-23 -1.04700452e-05  7.20469080e-04  8.70374458e-05\n",
      " -1.51037188e-05 -2.13111555e-05  9.49326182e-05 -1.50117728e-05\n",
      " -7.49748002e-06  1.31514037e-06]\u001b[0m\n",
      "\u001b[36mSpey - DEBUG (likelihoods.get_objective_function() in likelihoods.py::L283): Data: [3.2194e-03 1.4437e-03 3.0542e-05]\u001b[0m\n",
      "\u001b[36mSpey - DEBUG (likelihoods.get_logpdf_func() in likelihoods.py::L328): Data: [3.2194e-03 1.4437e-03 3.0542e-05]\u001b[0m\n",
      "\u001b[36mSpey - DEBUG (core.fit() in core.py::L68): Fixing POI index at: 0 to value 1.0\u001b[0m\n",
      "\u001b[36mSpey - DEBUG (likelihoods.get_objective_function() in likelihoods.py::L283): Data: [3.2194e-03 1.4437e-03 3.0542e-05]\u001b[0m\n",
      "\u001b[36mSpey - DEBUG (likelihoods.get_logpdf_func() in likelihoods.py::L328): Data: [3.2194e-03 1.4437e-03 3.0542e-05]\u001b[0m\n",
      "\u001b[36mSpey - DEBUG (core.fit() in core.py::L68): Fixing POI index at: 0 to value 0.0\u001b[0m\n"
     ]
    },
    {
     "data": {
      "text/plain": [
       "[0.0004198149087206726]"
      ]
     },
     "execution_count": 10,
     "metadata": {},
     "output_type": "execute_result"
    }
   ],
   "source": [
    "contur_model.exclusion_confidence_level(calculator='chi_square',init_pars=list(np.append(0.0,np.ones(9))),do_grad=True)"
   ]
  },
  {
   "cell_type": "markdown",
   "metadata": {},
   "source": [
    "### Asymptotic calculator\n",
    "\n",
    "Q. Why is the limit 1.0 for all the models when this calculator is used?\n",
    "\n",
    "Setting the initial POI to zero, we get something more sensible\n",
    "\n",
    "Q. The initial parameter value is set to the user inputted value each time `core.fit()` is called, rather than using the `fit parameters` value returned by `statistical_model.maximize_likelihood()`, is this supposed to happen?"
   ]
  },
  {
   "cell_type": "code",
   "execution_count": 11,
   "metadata": {},
   "outputs": [
    {
     "name": "stdout",
     "output_type": "stream",
     "text": [
      "\u001b[36mSpey - DEBUG (statistical_model.maximize_likelihood() in statistical_model.py::L511): fit parameters: [1.11022302e-16]\u001b[0m\n",
      "\u001b[36mSpey - DEBUG (hypotest_base._prepare_for_hypotest() in hypotest_base.py::L434): muhat: 1.1102230246251565e-16, nll: -25.950150283834923\u001b[0m\n",
      "\u001b[36mSpey - DEBUG (core.fit() in core.py::L68): Fixing POI index at: 0 to value 0.0\u001b[0m\n",
      "\u001b[36mSpey - DEBUG (statistical_model.generate_asimov_data() in statistical_model.py::L380): fit parameters: [0.]\u001b[0m\n",
      "\u001b[36mSpey - DEBUG (statistical_model.maximize_likelihood() in statistical_model.py::L511): fit parameters: [1.]\u001b[0m\n",
      "\u001b[36mSpey - DEBUG (hypotest_base._prepare_for_hypotest() in hypotest_base.py::L440): muhatA: 1.0, nllA: -26.899424583799806\u001b[0m\n",
      "\u001b[36mSpey - DEBUG (core.fit() in core.py::L68): Fixing POI index at: 0 to value 0.0\u001b[0m\n",
      "\u001b[36mSpey - DEBUG (statistical_model.generate_asimov_data() in statistical_model.py::L380): fit parameters: [0.]\u001b[0m\n",
      "\u001b[31mSpey - ERROR: Asimov test statistic is zero. Note: Asimov test statistic of zero indicates a lack of evidence for a signal or deviation from a null hypothesis.\u001b[0m\n"
     ]
    },
    {
     "data": {
      "text/plain": [
       "[0.0]"
      ]
     },
     "execution_count": 11,
     "metadata": {},
     "output_type": "execute_result"
    }
   ],
   "source": [
    "multinorm.exclusion_confidence_level(calculator='asymptotic')"
   ]
  },
  {
   "cell_type": "code",
   "execution_count": 12,
   "metadata": {},
   "outputs": [
    {
     "name": "stdout",
     "output_type": "stream",
     "text": [
      "\u001b[36mSpey - DEBUG (statistical_model.maximize_likelihood() in statistical_model.py::L511): fit parameters: [0.]\u001b[0m\n",
      "\u001b[36mSpey - DEBUG (hypotest_base._prepare_for_hypotest() in hypotest_base.py::L434): muhat: 0.0, nll: -25.950150283834923\u001b[0m\n",
      "\u001b[36mSpey - DEBUG (core.fit() in core.py::L68): Fixing POI index at: 0 to value 0.0\u001b[0m\n",
      "\u001b[36mSpey - DEBUG (statistical_model.generate_asimov_data() in statistical_model.py::L380): fit parameters: [0.]\u001b[0m\n",
      "\u001b[36mSpey - DEBUG (statistical_model.maximize_likelihood() in statistical_model.py::L511): fit parameters: [0.]\u001b[0m\n",
      "\u001b[36mSpey - DEBUG (hypotest_base._prepare_for_hypotest() in hypotest_base.py::L440): muhatA: 0.0, nllA: -26.89943427418648\u001b[0m\n",
      "\u001b[36mSpey - DEBUG (core.fit() in core.py::L68): Fixing POI index at: 0 to value 0.0\u001b[0m\n",
      "\u001b[36mSpey - DEBUG (statistical_model.generate_asimov_data() in statistical_model.py::L380): fit parameters: [0.]\u001b[0m\n",
      "\u001b[36mSpey - DEBUG (test_statistics.compute_teststatistics() in test_statistics.py::L230): sqrt_qmu = 0.06102364979000707, sqrt_qmuA = 0.004402359974523889, delta_teststat = 0.42074081649226996\u001b[0m\n",
      "\u001b[36mSpey - DEBUG (hypotest_base.exclusion_confidence_level() in hypotest_base.py::L677): sqrt_qmuA = 0.004402359974523889, test statistic = 0.42074081649226996\u001b[0m\n",
      "\u001b[36mSpey - DEBUG (hypotest_base.exclusion_confidence_level() in hypotest_base.py::L682): pval = [0.9952339564928204], expected pval = [0.989598144511443, 0.9933005846073524, 0.9964874362912681, 0.9964997312083963, 0.9964997312083963]\u001b[0m\n"
     ]
    },
    {
     "data": {
      "text/plain": [
       "[0.004766043507179574]"
      ]
     },
     "execution_count": 12,
     "metadata": {},
     "output_type": "execute_result"
    }
   ],
   "source": [
    "# setting the initial POI to zero\n",
    "multinorm.exclusion_confidence_level(calculator='asymptotic',init_pars=[0.0])"
   ]
  },
  {
   "cell_type": "markdown",
   "metadata": {},
   "source": [
    "## Plots of the NLL landscape"
   ]
  },
  {
   "cell_type": "code",
   "execution_count": 13,
   "metadata": {},
   "outputs": [],
   "source": [
    "def plot_nnl_range(model,linspace, ax):\n",
    "    cls_vals = [model.likelihood(p) for p in linspace]\n",
    "\n",
    "    ax.plot(linspace, cls_vals)\n",
    "    ax.set_xlabel(\"$\\mu$\")\n",
    "    ax.set_ylabel(\"$-\\ln L$\")\n",
    "\n",
    "    return ax"
   ]
  },
  {
   "cell_type": "code",
   "execution_count": 14,
   "metadata": {},
   "outputs": [
    {
     "data": {
      "text/plain": [
       "<Axes: xlabel='$\\\\mu$', ylabel='$-\\\\ln L$'>"
      ]
     },
     "execution_count": 14,
     "metadata": {},
     "output_type": "execute_result"
    },
    {
     "data": {
      "image/png": "[encoded data removed]",
      "text/plain": [
       "<Figure size 1000x400 with 2 Axes>"
      ]
     },
     "metadata": {},
     "output_type": "display_data"
    }
   ],
   "source": [
    "# first plot for the multinormal model, left plot has mu values very close to 1, right has a larger range\n",
    "fig1, (ax1L,ax1R) = plt.subplots(ncols=2, figsize=(10,4))\n",
    "\n",
    "plot_nnl_range(multinorm,np.linspace(0.99999,1.00001,100),ax1L)\n",
    "plot_nnl_range(multinorm,np.linspace(0.1,10.,100),ax1R)\n"
   ]
  },
  {
   "cell_type": "code",
   "execution_count": 15,
   "metadata": {},
   "outputs": [
    {
     "data": {
      "text/plain": [
       "<Axes: xlabel='$\\\\mu$', ylabel='$-\\\\ln L$'>"
      ]
     },
     "execution_count": 15,
     "metadata": {},
     "output_type": "execute_result"
    },
    {
     "data": {
      "image/png": "[encoded data removed]",
      "text/plain": [
       "<Figure size 1000x400 with 2 Axes>"
      ]
     },
     "metadata": {},
     "output_type": "display_data"
    }
   ],
   "source": [
    "# do the same for the contur model, the NLL landscape is flatter\n",
    "spey.set_log_level(2)\n",
    "fig2, (ax2L,ax2R) = plt.subplots(ncols=2, figsize=(10,4))\n",
    "\n",
    "plot_nnl_range(contur_model,np.linspace(0.99999,1.00001,100),ax2L)\n",
    "plot_nnl_range(contur_model,np.linspace(0.1,10.,100),ax2R)\n",
    "\n"
   ]
  },
  {
   "cell_type": "code",
   "execution_count": 26,
   "metadata": {},
   "outputs": [
    {
     "data": {
      "text/plain": [
       "array([[1.69049994e-07, 3.41845046e-08, 1.09669171e-09],\n",
       "       [3.41845046e-08, 1.60900800e-08, 3.20895254e-10],\n",
       "       [1.09669171e-09, 3.20895254e-10, 1.94099675e-11]])"
      ]
     },
     "execution_count": 26,
     "metadata": {},
     "output_type": "execute_result"
    }
   ],
   "source": [
    "multinorm.backend._main_model._pdf(pars=[0.0]).cov(val=[0.0])"
   ]
  },
  {
   "cell_type": "markdown",
   "metadata": {},
   "source": [
    "## Investigating spey's model combiner\n"
   ]
  },
  {
   "cell_type": "code",
   "execution_count": 30,
   "metadata": {},
   "outputs": [],
   "source": [
    "# data copied from contur histogram\n",
    "s = np.array([0., 0., 0., 0., 0., 0., 0., 0., 0., 0., 0., 0., 0., 0., 0.])\n",
    "b = np.array([0.5182588, 0.07834322, 0.356363, 0.08658745, 0.07556074, 0.3293249,\n",
    "              0.3609728, 0.2512425, 0.1550958, 0.09602748, 0.0582145, 0.03103152,\n",
    "              0.01372487, 0.00519018, 0.00085627])\n",
    "d = np.array([0.5100341, 0.09334923, 0.4335068, 0.09532187, 0.08699488, 0.33711,\n",
    "              0.3715124, 0.3026671, 0.1698501, 0.08211375, 0.05865921, 0.03999472,\n",
    "              0.01266759, 0.00832014, 0.00137639])\n",
    "\n",
    "B1 = np.array([\n",
    "    [2.99405172e-03, 0.00000000e+00, 0.00000000e+00, 0.00000000e+00, 0.00000000e+00, 0.00000000e+00, 0.00000000e+00, 0.00000000e+00, 0.00000000e+00, 0.00000000e+00, 0.00000000e+00, 0.00000000e+00, 0.00000000e+00, 0.00000000e+00, 0.00000000e+00],\n",
    "    [0.00000000e+00, 3.62230683e-04, 0.00000000e+00, 0.00000000e+00, 0.00000000e+00, 0.00000000e+00, 0.00000000e+00, 0.00000000e+00, 0.00000000e+00, 0.00000000e+00, 0.00000000e+00, 0.00000000e+00, 0.00000000e+00, 0.00000000e+00, 0.00000000e+00],\n",
    "    [0.00000000e+00, 0.00000000e+00, 3.79824197e-03, 0.00000000e+00, 0.00000000e+00, 0.00000000e+00, 0.00000000e+00, 0.00000000e+00, 0.00000000e+00, 0.00000000e+00, 0.00000000e+00, 0.00000000e+00, 0.00000000e+00, 0.00000000e+00, 0.00000000e+00],\n",
    "    [0.00000000e+00, 0.00000000e+00, 0.00000000e+00, 3.43746503e-04, 0.00000000e+00, 0.00000000e+00, 0.00000000e+00, 0.00000000e+00, 0.00000000e+00, 0.00000000e+00, 0.00000000e+00, 0.00000000e+00, 0.00000000e+00, 0.00000000e+00, 0.00000000e+00],\n",
    "    [0.00000000e+00, 0.00000000e+00, 0.00000000e+00, 0.00000000e+00, 1.95110432e-04, 0.00000000e+00, 0.00000000e+00, 0.00000000e+00, 0.00000000e+00, 0.00000000e+00, 0.00000000e+00, 0.00000000e+00, 0.00000000e+00, 0.00000000e+00, 0.00000000e+00],\n",
    "    [0.00000000e+00, 0.00000000e+00, 0.00000000e+00, 0.00000000e+00, 0.00000000e+00, 1.24589603e-03, 0.00000000e+00, 0.00000000e+00, 0.00000000e+00, 0.00000000e+00, 0.00000000e+00, 0.00000000e+00, 0.00000000e+00, 0.00000000e+00, 0.00000000e+00],\n",
    "    [0.00000000e+00, 0.00000000e+00, 0.00000000e+00, 0.00000000e+00, 0.00000000e+00, 0.00000000e+00, 1.25984268e-03, 0.00000000e+00, 0.00000000e+00, 0.00000000e+00, 0.00000000e+00, 0.00000000e+00, 0.00000000e+00, 0.00000000e+00, 0.00000000e+00],\n",
    "    [0.00000000e+00, 0.00000000e+00, 0.00000000e+00, 0.00000000e+00, 0.00000000e+00, 0.00000000e+00, 0.00000000e+00, 8.07263409e-04, 0.00000000e+00, 0.00000000e+00, 0.00000000e+00, 0.00000000e+00, 0.00000000e+00, 0.00000000e+00, 0.00000000e+00],\n",
    "    [0.00000000e+00, 0.00000000e+00, 0.00000000e+00, 0.00000000e+00, 0.00000000e+00, 0.00000000e+00, 0.00000000e+00, 0.00000000e+00, 3.61230443e-04, 0.00000000e+00, 0.00000000e+00, 0.00000000e+00, 0.00000000e+00, 0.00000000e+00, 0.00000000e+00],\n",
    "    [0.00000000e+00, 0.00000000e+00, 0.00000000e+00, 0.00000000e+00, 0.00000000e+00, 0.00000000e+00, 0.00000000e+00, 0.00000000e+00, 0.00000000e+00, 1.70780145e-04, 0.00000000e+00, 0.00000000e+00, 0.00000000e+00, 0.00000000e+00, 0.00000000e+00],\n",
    "    [0.00000000e+00, 0.00000000e+00, 0.00000000e+00, 0.00000000e+00, 0.00000000e+00, 0.00000000e+00, 0.00000000e+00, 0.00000000e+00, 0.00000000e+00, 0.00000000e+00, 8.80661706e-05, 0.00000000e+00, 0.00000000e+00, 0.00000000e+00, 0.00000000e+00],\n",
    "    [0.00000000e+00, 0.00000000e+00, 0.00000000e+00, 0.00000000e+00, 0.00000000e+00, 0.00000000e+00, 0.00000000e+00, 0.00000000e+00, 0.00000000e+00, 0.00000000e+00, 0.00000000e+00, 3.54398427e-05, 0.00000000e+00, 0.00000000e+00, 0.00000000e+00],\n",
    "    [0.00000000e+00, 0.00000000e+00, 0.00000000e+00, 0.00000000e+00, 0.00000000e+00, 0.00000000e+00, 0.00000000e+00, 0.00000000e+00, 0.00000000e+00, 0.00000000e+00, 0.00000000e+00, 0.00000000e+00, 7.63045386e-06, 0.00000000e+00, 0.00000000e+00],\n",
    "    [0.00000000e+00, 0.00000000e+00, 0.00000000e+00, 0.00000000e+00, 0.00000000e+00, 0.00000000e+00, 0.00000000e+00, 0.00000000e+00, 0.00000000e+00, 0.00000000e+00, 0.00000000e+00, 0.00000000e+00, 0.00000000e+00, 3.42989317e-05, 0.00000000e+00],\n",
    "    [0.00000000e+00, 0.00000000e+00, 0.00000000e+00, 0.00000000e+00, 0.00000000e+00, 0.00000000e+00, 0.00000000e+00, 0.00000000e+00, 0.00000000e+00, 0.00000000e+00, 0.00000000e+00, 0.00000000e+00, 0.00000000e+00, 0.00000000e+00, 4.12642962e-04]\n",
    "])\n",
    "\n"
   ]
  },
  {
   "cell_type": "code",
   "execution_count": 32,
   "metadata": {},
   "outputs": [],
   "source": [
    "no_signal = spey.get_backend('default_pdf.multivariate_normal')(\n",
    "    signal_yields = s,\n",
    "    background_yields  =b,\n",
    "    data = d,\n",
    "    covariance_matrix = B1\n",
    ")"
   ]
  },
  {
   "cell_type": "code",
   "execution_count": 33,
   "metadata": {},
   "outputs": [
    {
     "data": {
      "text/plain": [
       "[0.0]"
      ]
     },
     "execution_count": 33,
     "metadata": {},
     "output_type": "execute_result"
    }
   ],
   "source": [
    "no_signal.exclusion_confidence_level(calculator='chi_square')"
   ]
  },
  {
   "cell_type": "code",
   "execution_count": 35,
   "metadata": {},
   "outputs": [],
   "source": [
    "# build a combined model \n",
    "from spey.combiner.uncorrelated_statistics_combiner import UnCorrStatisticsCombiner\n",
    "\n",
    "combined = UnCorrStatisticsCombiner(*[no_signal])"
   ]
  },
  {
   "cell_type": "code",
   "execution_count": 37,
   "metadata": {},
   "outputs": [
    {
     "ename": "LinAlgError",
     "evalue": "Singular matrix",
     "output_type": "error",
     "traceback": [
      "\u001b[0;31m---------------------------------------------------------------------------\u001b[0m",
      "\u001b[0;31mLinAlgError\u001b[0m                               Traceback (most recent call last)",
      "Cell \u001b[0;32mIn[37], line 1\u001b[0m\n\u001b[0;32m----> 1\u001b[0m \u001b[43mcombined\u001b[49m\u001b[38;5;241;43m.\u001b[39;49m\u001b[43mexclusion_confidence_level\u001b[49m\u001b[43m(\u001b[49m\u001b[43mcalculator\u001b[49m\u001b[38;5;241;43m=\u001b[39;49m\u001b[38;5;124;43m'\u001b[39;49m\u001b[38;5;124;43mchi_square\u001b[39;49m\u001b[38;5;124;43m'\u001b[39;49m\u001b[43m)\u001b[49m\n",
      "File \u001b[0;32m~/Documents/phd/code/spey_contur_plugin/spey_venv/lib/python3.11/site-packages/spey/base/hypotest_base.py:654\u001b[0m, in \u001b[0;36mHypothesisTestingBase.exclusion_confidence_level\u001b[0;34m(self, poi_test, expected, allow_negative_signal, calculator, **kwargs)\u001b[0m\n\u001b[1;32m    646\u001b[0m \u001b[38;5;250m        \u001b[39m\u001b[38;5;124;03m\"\"\"Compute maximum likelihood with respect to given data\"\"\"\u001b[39;00m\n\u001b[1;32m    647\u001b[0m         \u001b[38;5;28;01mreturn\u001b[39;00m \u001b[38;5;28mself\u001b[39m\u001b[38;5;241m.\u001b[39mmaximize_likelihood(\n\u001b[1;32m    648\u001b[0m             expected\u001b[38;5;241m=\u001b[39mexpected,\n\u001b[1;32m    649\u001b[0m             allow_negative_signal\u001b[38;5;241m=\u001b[39mallow_negative_signal,\n\u001b[1;32m    650\u001b[0m             data\u001b[38;5;241m=\u001b[39mdata,\n\u001b[1;32m    651\u001b[0m             \u001b[38;5;241m*\u001b[39m\u001b[38;5;241m*\u001b[39mkwargs,\n\u001b[1;32m    652\u001b[0m         )\n\u001b[0;32m--> 654\u001b[0m     muhat, min_negloglike \u001b[38;5;241m=\u001b[39m \u001b[43mmaximize_likelihood\u001b[49m\u001b[43m(\u001b[49m\u001b[38;5;28;43;01mNone\u001b[39;49;00m\u001b[43m)\u001b[49m\n\u001b[1;32m    656\u001b[0m \u001b[38;5;28;01mif\u001b[39;00m calculator \u001b[38;5;241m==\u001b[39m \u001b[38;5;124m\"\u001b[39m\u001b[38;5;124masymptotic\u001b[39m\u001b[38;5;124m\"\u001b[39m:\n\u001b[1;32m    657\u001b[0m     (\n\u001b[1;32m    658\u001b[0m         maximum_likelihood,\n\u001b[1;32m    659\u001b[0m         logpdf,\n\u001b[0;32m   (...)\u001b[0m\n\u001b[1;32m    665\u001b[0m         \u001b[38;5;241m*\u001b[39m\u001b[38;5;241m*\u001b[39mkwargs,\n\u001b[1;32m    666\u001b[0m     )\n",
      "File \u001b[0;32m~/Documents/phd/code/spey_contur_plugin/spey_venv/lib/python3.11/site-packages/spey/base/hypotest_base.py:647\u001b[0m, in \u001b[0;36mHypothesisTestingBase.exclusion_confidence_level.<locals>.maximize_likelihood\u001b[0;34m(data)\u001b[0m\n\u001b[1;32m    643\u001b[0m \u001b[38;5;28;01mdef\u001b[39;00m \u001b[38;5;21mmaximize_likelihood\u001b[39m(\n\u001b[1;32m    644\u001b[0m     data: Union[\u001b[38;5;28mfloat\u001b[39m, np\u001b[38;5;241m.\u001b[39mndarray]\n\u001b[1;32m    645\u001b[0m ) \u001b[38;5;241m-\u001b[39m\u001b[38;5;241m>\u001b[39m Tuple[\u001b[38;5;28mfloat\u001b[39m, \u001b[38;5;28mfloat\u001b[39m]:\n\u001b[1;32m    646\u001b[0m \u001b[38;5;250m    \u001b[39m\u001b[38;5;124;03m\"\"\"Compute maximum likelihood with respect to given data\"\"\"\u001b[39;00m\n\u001b[0;32m--> 647\u001b[0m     \u001b[38;5;28;01mreturn\u001b[39;00m \u001b[38;5;28;43mself\u001b[39;49m\u001b[38;5;241;43m.\u001b[39;49m\u001b[43mmaximize_likelihood\u001b[49m\u001b[43m(\u001b[49m\n\u001b[1;32m    648\u001b[0m \u001b[43m        \u001b[49m\u001b[43mexpected\u001b[49m\u001b[38;5;241;43m=\u001b[39;49m\u001b[43mexpected\u001b[49m\u001b[43m,\u001b[49m\n\u001b[1;32m    649\u001b[0m \u001b[43m        \u001b[49m\u001b[43mallow_negative_signal\u001b[49m\u001b[38;5;241;43m=\u001b[39;49m\u001b[43mallow_negative_signal\u001b[49m\u001b[43m,\u001b[49m\n\u001b[1;32m    650\u001b[0m \u001b[43m        \u001b[49m\u001b[43mdata\u001b[49m\u001b[38;5;241;43m=\u001b[39;49m\u001b[43mdata\u001b[49m\u001b[43m,\u001b[49m\n\u001b[1;32m    651\u001b[0m \u001b[43m        \u001b[49m\u001b[38;5;241;43m*\u001b[39;49m\u001b[38;5;241;43m*\u001b[39;49m\u001b[43mkwargs\u001b[49m\u001b[43m,\u001b[49m\n\u001b[1;32m    652\u001b[0m \u001b[43m    \u001b[49m\u001b[43m)\u001b[49m\n",
      "File \u001b[0;32m~/Documents/phd/code/spey_contur_plugin/spey_venv/lib/python3.11/site-packages/spey/combiner/uncorrelated_statistics_combiner.py:508\u001b[0m, in \u001b[0;36mUnCorrStatisticsCombiner.maximize_likelihood\u001b[0;34m(self, return_nll, expected, allow_negative_signal, data, initial_muhat_value, par_bounds, statistical_model_options, **optimiser_options)\u001b[0m\n\u001b[1;32m    501\u001b[0m     current_kwargs\u001b[38;5;241m.\u001b[39mupdate(\n\u001b[1;32m    502\u001b[0m         statistical_model_options\u001b[38;5;241m.\u001b[39mget(\u001b[38;5;28mstr\u001b[39m(stat_model\u001b[38;5;241m.\u001b[39mbackend_type), {})\n\u001b[1;32m    503\u001b[0m     )\n\u001b[1;32m    505\u001b[0m     _mu[idx] \u001b[38;5;241m=\u001b[39m stat_model\u001b[38;5;241m.\u001b[39mmaximize_likelihood(\n\u001b[1;32m    506\u001b[0m         expected\u001b[38;5;241m=\u001b[39mexpected, \u001b[38;5;241m*\u001b[39m\u001b[38;5;241m*\u001b[39mcurrent_kwargs, \u001b[38;5;241m*\u001b[39m\u001b[38;5;241m*\u001b[39moptimiser_options\n\u001b[1;32m    507\u001b[0m     )[\u001b[38;5;241m0\u001b[39m]\n\u001b[0;32m--> 508\u001b[0m     _sigma_mu[idx] \u001b[38;5;241m=\u001b[39m \u001b[43mstat_model\u001b[49m\u001b[38;5;241;43m.\u001b[39;49m\u001b[43msigma_mu\u001b[49m\u001b[43m(\u001b[49m\n\u001b[1;32m    509\u001b[0m \u001b[43m        \u001b[49m\u001b[43mpoi_test\u001b[49m\u001b[38;5;241;43m=\u001b[39;49m\u001b[43m_mu\u001b[49m\u001b[43m[\u001b[49m\u001b[43midx\u001b[49m\u001b[43m]\u001b[49m\u001b[43m,\u001b[49m\n\u001b[1;32m    510\u001b[0m \u001b[43m        \u001b[49m\u001b[43mexpected\u001b[49m\u001b[38;5;241;43m=\u001b[39;49m\u001b[43mexpected\u001b[49m\u001b[43m,\u001b[49m\n\u001b[1;32m    511\u001b[0m \u001b[43m        \u001b[49m\u001b[38;5;241;43m*\u001b[39;49m\u001b[38;5;241;43m*\u001b[39;49m\u001b[43mcurrent_kwargs\u001b[49m\u001b[43m,\u001b[49m\n\u001b[1;32m    512\u001b[0m \u001b[43m        \u001b[49m\u001b[38;5;241;43m*\u001b[39;49m\u001b[38;5;241;43m*\u001b[39;49m\u001b[43moptimiser_options\u001b[49m\u001b[43m,\u001b[49m\n\u001b[1;32m    513\u001b[0m \u001b[43m    \u001b[49m\u001b[43m)\u001b[49m\n\u001b[1;32m    514\u001b[0m norm \u001b[38;5;241m=\u001b[39m np\u001b[38;5;241m.\u001b[39msum(np\u001b[38;5;241m.\u001b[39mpower(_sigma_mu, \u001b[38;5;241m-\u001b[39m\u001b[38;5;241m2\u001b[39m))\n\u001b[1;32m    515\u001b[0m mu_init \u001b[38;5;241m=\u001b[39m np\u001b[38;5;241m.\u001b[39mtrue_divide(\u001b[38;5;241m1.0\u001b[39m, norm) \u001b[38;5;241m*\u001b[39m np\u001b[38;5;241m.\u001b[39msum(\n\u001b[1;32m    516\u001b[0m     np\u001b[38;5;241m.\u001b[39mtrue_divide(_mu, np\u001b[38;5;241m.\u001b[39msquare(_sigma_mu))\n\u001b[1;32m    517\u001b[0m )\n",
      "File \u001b[0;32m~/Documents/phd/code/spey_contur_plugin/spey_venv/lib/python3.11/site-packages/spey/base/hypotest_base.py:522\u001b[0m, in \u001b[0;36mHypothesisTestingBase.sigma_mu\u001b[0;34m(self, poi_test, expected, test_statistics, **kwargs)\u001b[0m\n\u001b[1;32m    520\u001b[0m \u001b[38;5;28;01mif\u001b[39;00m \u001b[38;5;28mhasattr\u001b[39m(\u001b[38;5;28mself\u001b[39m, \u001b[38;5;124m\"\u001b[39m\u001b[38;5;124msigma_mu_from_hessian\u001b[39m\u001b[38;5;124m\"\u001b[39m):\n\u001b[1;32m    521\u001b[0m     \u001b[38;5;28;01mtry\u001b[39;00m:\n\u001b[0;32m--> 522\u001b[0m         \u001b[38;5;28;01mreturn\u001b[39;00m \u001b[38;5;28;43mself\u001b[39;49m\u001b[38;5;241;43m.\u001b[39;49m\u001b[43msigma_mu_from_hessian\u001b[49m\u001b[43m(\u001b[49m\n\u001b[1;32m    523\u001b[0m \u001b[43m            \u001b[49m\u001b[43mpoi_test\u001b[49m\u001b[38;5;241;43m=\u001b[39;49m\u001b[43mpoi_test\u001b[49m\u001b[43m,\u001b[49m\u001b[43m \u001b[49m\u001b[43mexpected\u001b[49m\u001b[38;5;241;43m=\u001b[39;49m\u001b[43mexpected\u001b[49m\u001b[43m,\u001b[49m\u001b[43m \u001b[49m\u001b[38;5;241;43m*\u001b[39;49m\u001b[38;5;241;43m*\u001b[39;49m\u001b[43mkwargs\u001b[49m\n\u001b[1;32m    524\u001b[0m \u001b[43m        \u001b[49m\u001b[43m)\u001b[49m\n\u001b[1;32m    525\u001b[0m     \u001b[38;5;28;01mexcept\u001b[39;00m MethodNotAvailable:\n\u001b[1;32m    526\u001b[0m         log\u001b[38;5;241m.\u001b[39mwarning(\n\u001b[1;32m    527\u001b[0m             \u001b[38;5;124m\"\u001b[39m\u001b[38;5;124mHessian implementation is not available for this backend, \u001b[39m\u001b[38;5;124m\"\u001b[39m\n\u001b[1;32m    528\u001b[0m             \u001b[38;5;124m\"\u001b[39m\u001b[38;5;124mcontinuing with the approximate method.\u001b[39m\u001b[38;5;124m\"\u001b[39m\n\u001b[1;32m    529\u001b[0m         )\n",
      "File \u001b[0;32m~/Documents/phd/code/spey_contur_plugin/spey_venv/lib/python3.11/site-packages/spey/interface/statistical_model.py:715\u001b[0m, in \u001b[0;36mStatisticalModel.sigma_mu_from_hessian\u001b[0;34m(self, poi_test, expected, init_pars, par_bounds, **kwargs)\u001b[0m\n\u001b[1;32m    712\u001b[0m log\u001b[38;5;241m.\u001b[39mdebug(\u001b[38;5;124mf\u001b[39m\u001b[38;5;124m\"\u001b[39m\u001b[38;5;124mfull hessian: \u001b[39m\u001b[38;5;132;01m{\u001b[39;00mhessian\u001b[38;5;132;01m}\u001b[39;00m\u001b[38;5;124m\"\u001b[39m)\n\u001b[1;32m    714\u001b[0m poi_index \u001b[38;5;241m=\u001b[39m \u001b[38;5;28mself\u001b[39m\u001b[38;5;241m.\u001b[39mbackend\u001b[38;5;241m.\u001b[39mconfig()\u001b[38;5;241m.\u001b[39mpoi_index\n\u001b[0;32m--> 715\u001b[0m \u001b[38;5;28;01mreturn\u001b[39;00m np\u001b[38;5;241m.\u001b[39msqrt(\u001b[43mnp\u001b[49m\u001b[38;5;241;43m.\u001b[39;49m\u001b[43mlinalg\u001b[49m\u001b[38;5;241;43m.\u001b[39;49m\u001b[43minv\u001b[49m\u001b[43m(\u001b[49m\u001b[43mhessian\u001b[49m\u001b[43m)\u001b[49m[poi_index, poi_index])\n",
      "File \u001b[0;32m~/Documents/phd/code/spey_contur_plugin/spey_venv/lib/python3.11/site-packages/numpy/linalg/linalg.py:561\u001b[0m, in \u001b[0;36minv\u001b[0;34m(a)\u001b[0m\n\u001b[1;32m    559\u001b[0m signature \u001b[38;5;241m=\u001b[39m \u001b[38;5;124m'\u001b[39m\u001b[38;5;124mD->D\u001b[39m\u001b[38;5;124m'\u001b[39m \u001b[38;5;28;01mif\u001b[39;00m isComplexType(t) \u001b[38;5;28;01melse\u001b[39;00m \u001b[38;5;124m'\u001b[39m\u001b[38;5;124md->d\u001b[39m\u001b[38;5;124m'\u001b[39m\n\u001b[1;32m    560\u001b[0m extobj \u001b[38;5;241m=\u001b[39m get_linalg_error_extobj(_raise_linalgerror_singular)\n\u001b[0;32m--> 561\u001b[0m ainv \u001b[38;5;241m=\u001b[39m \u001b[43m_umath_linalg\u001b[49m\u001b[38;5;241;43m.\u001b[39;49m\u001b[43minv\u001b[49m\u001b[43m(\u001b[49m\u001b[43ma\u001b[49m\u001b[43m,\u001b[49m\u001b[43m \u001b[49m\u001b[43msignature\u001b[49m\u001b[38;5;241;43m=\u001b[39;49m\u001b[43msignature\u001b[49m\u001b[43m,\u001b[49m\u001b[43m \u001b[49m\u001b[43mextobj\u001b[49m\u001b[38;5;241;43m=\u001b[39;49m\u001b[43mextobj\u001b[49m\u001b[43m)\u001b[49m\n\u001b[1;32m    562\u001b[0m \u001b[38;5;28;01mreturn\u001b[39;00m wrap(ainv\u001b[38;5;241m.\u001b[39mastype(result_t, copy\u001b[38;5;241m=\u001b[39m\u001b[38;5;28;01mFalse\u001b[39;00m))\n",
      "File \u001b[0;32m~/Documents/phd/code/spey_contur_plugin/spey_venv/lib/python3.11/site-packages/numpy/linalg/linalg.py:112\u001b[0m, in \u001b[0;36m_raise_linalgerror_singular\u001b[0;34m(err, flag)\u001b[0m\n\u001b[1;32m    111\u001b[0m \u001b[38;5;28;01mdef\u001b[39;00m \u001b[38;5;21m_raise_linalgerror_singular\u001b[39m(err, flag):\n\u001b[0;32m--> 112\u001b[0m     \u001b[38;5;28;01mraise\u001b[39;00m LinAlgError(\u001b[38;5;124m\"\u001b[39m\u001b[38;5;124mSingular matrix\u001b[39m\u001b[38;5;124m\"\u001b[39m)\n",
      "\u001b[0;31mLinAlgError\u001b[0m: Singular matrix"
     ]
    }
   ],
   "source": [
    "# try to calculate CLs\n",
    "combined.exclusion_confidence_level(calculator='chi_square')"
   ]
  },
  {
   "cell_type": "code",
   "execution_count": 38,
   "metadata": {},
   "outputs": [],
   "source": [
    "inv_B1 = np.linalg.inv(B1)"
   ]
  },
  {
   "cell_type": "code",
   "execution_count": null,
   "metadata": {},
   "outputs": [],
   "source": []
  }
 ],
 "metadata": {
  "kernelspec": {
   "display_name": "spey_venv",
   "language": "python",
   "name": "python3"
  },
  "language_info": {
   "codemirror_mode": {
    "name": "ipython",
    "version": 3
   },
   "file_extension": ".py",
   "mimetype": "text/x-python",
   "name": "python",
   "nbconvert_exporter": "python",
   "pygments_lexer": "ipython3",
   "version": "3.11.5"
  }
 },
 "nbformat": 4,
 "nbformat_minor": 2
}
